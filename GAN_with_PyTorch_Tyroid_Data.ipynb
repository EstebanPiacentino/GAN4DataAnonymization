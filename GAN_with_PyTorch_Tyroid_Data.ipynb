{
  "nbformat": 4,
  "nbformat_minor": 0,
  "metadata": {
    "colab": {
      "name": "GAN with PyTorch - Tyroid Data.ipynb",
      "version": "0.3.2",
      "provenance": [],
      "collapsed_sections": [],
      "include_colab_link": true
    },
    "kernelspec": {
      "name": "python3",
      "display_name": "Python 3"
    },
    "accelerator": "GPU"
  },
  "cells": [
    {
      "cell_type": "markdown",
      "metadata": {
        "id": "view-in-github",
        "colab_type": "text"
      },
      "source": [
        "<a href=\"https://colab.research.google.com/github/EstebanPiacentino/GAN4DataAnonymization/blob/master/GAN_with_PyTorch_Tyroid_Data.ipynb\" target=\"_parent\"><img src=\"https://colab.research.google.com/assets/colab-badge.svg\" alt=\"Open In Colab\"/></a>"
      ]
    },
    {
      "cell_type": "code",
      "metadata": {
        "id": "y8qaHmQ93eZB",
        "colab_type": "code",
        "outputId": "73e77afc-f924-4a1a-919d-3e194b227410",
        "colab": {
          "base_uri": "https://localhost:8080/",
          "height": 34
        }
      },
      "source": [
        "from google.colab import drive\n",
        "drive.mount('/gdrive', force_remount=True)\n"
      ],
      "execution_count": 0,
      "outputs": [
        {
          "output_type": "stream",
          "text": [
            "Mounted at /gdrive\n"
          ],
          "name": "stdout"
        }
      ]
    },
    {
      "cell_type": "code",
      "metadata": {
        "id": "WsPbPdvRyKgZ",
        "colab_type": "code",
        "outputId": "9b21cb65-7da3-4925-fcfe-786361799d2a",
        "colab": {
          "base_uri": "https://localhost:8080/",
          "height": 34
        }
      },
      "source": [
        "cd /gdrive/My Drive/Colab Notebooks"
      ],
      "execution_count": 0,
      "outputs": [
        {
          "output_type": "stream",
          "text": [
            "/gdrive/My Drive/Colab Notebooks\n"
          ],
          "name": "stdout"
        }
      ]
    },
    {
      "cell_type": "code",
      "metadata": {
        "id": "RPiwh7YHyUhx",
        "colab_type": "code",
        "colab": {}
      },
      "source": [
        "#Dependencies\n",
        "import numpy as np\n",
        "import pandas as pd\n",
        "import os\n",
        "from skimage import io, transform\n",
        "import torch\n",
        "import matplotlib.pyplot as plt\n",
        "%matplotlib inline\n",
        "from torchvision import transforms, datasets, utils\n",
        "from torch.utils.data import Dataset, DataLoader\n",
        "import torch.nn as nn\n",
        "from random import choice\n",
        "\n",
        "from zipfile import ZipFile\n",
        "import io as ios"
      ],
      "execution_count": 0,
      "outputs": []
    },
    {
      "cell_type": "code",
      "metadata": {
        "id": "qgN25kNl4ZTn",
        "colab_type": "code",
        "colab": {}
      },
      "source": [
        "#dataFile=pd.read_csv('tyroid_clean.csv')\n",
        "#binaryVars=['Sex','On_thyroxine','Query_on_thyroxine','On_antithyroid_medication','Sick','Pregnant','Thyroid_surgery','I131_treatment','Query_hypothyroid','Query_hyperthyroid','Lithium','Goitre','Tumor','Hypopituitary','Psych']\n",
        "#continuousVars=['Age','TSH','T3','TT4','T4U','FTI']\n",
        "#\n",
        "#row=12\n",
        "#\n",
        "#print(len(dataFile))\n",
        "#\n",
        "#cont_data_sample=dataFile.loc[row,continuousVars].values\n",
        "#binary_data_sample=dataFile.loc[row,binaryVars].values\n",
        "#\n",
        "#cont_data_sample_bloc=np.reshape(cont_data_sample,(2,3)) #With .T we can transpose it\n",
        "#binary_data_sample_bloc=np.reshape(binary_data_sample,(5,3))\n",
        "#\n",
        "#print(cont_data_sample)\n",
        "#print(binary_data_sample)\n",
        "#\n",
        "#sample_bloc=np.concatenate((cont_data_sample_bloc,binary_data_sample_bloc))\n",
        "#extra_bloc=np.zeros((7,4))\n",
        "#\n",
        "#sample_bloc=np.concatenate((sample_bloc,extra_bloc), axis=1)\n",
        "#\n",
        "#plt.axis('off')\n",
        "#plt.grid(b=None)\n",
        "#\n",
        "#im=plt.imshow(sample_bloc)\n",
        "\n",
        "#Inverse transformation\n",
        "#print(np.reshape(sample_bloc[:2,:3],(6)))\n",
        "#print(np.reshape(sample_bloc[2:,:3],(15)))\n",
        "\n"
      ],
      "execution_count": 0,
      "outputs": []
    },
    {
      "cell_type": "code",
      "metadata": {
        "id": "66uaDI_oxK8W",
        "colab_type": "code",
        "colab": {}
      },
      "source": [
        "class TyroidDataset(Dataset):\n",
        "    \"\"\"Fingerprints dataset.\"\"\"\n",
        "\n",
        "    def __init__(self, root_dir, transform=None):\n",
        "        \"\"\"\n",
        "        Args:\n",
        "            root_dir (string): Directory with all the images.\n",
        "            transform (callable, optional): Optional transform to be applied\n",
        "                on a sample.\n",
        "        \"\"\"\n",
        "        self.root_dir = root_dir\n",
        "        self.transform = transform\n",
        "        self.archive = pd.read_csv(self.root_dir)\n",
        "        self.binaryVars=['Sex','On_thyroxine','Query_on_thyroxine','On_antithyroid_medication','Sick','Pregnant','Thyroid_surgery','I131_treatment','Query_hypothyroid','Query_hyperthyroid','Lithium','Goitre','Tumor','Hypopituitary','Psych']\n",
        "        self.continuousVars=['Age','TSH','T3','TT4','T4U','FTI']\n",
        "\n",
        "    def __len__(self):\n",
        "        return 6330 #Total number of images\n",
        "\n",
        "    def __getitem__(self, idx):\n",
        "        cont_data_sample=self.archive.loc[idx,self.continuousVars].values\n",
        "        binary_data_sample=self.archive.loc[idx,self.binaryVars].values\n",
        "        \n",
        "        cont_data_sample_bloc=np.reshape(cont_data_sample,(2,3)) #With .T we can transpose it\n",
        "        binary_data_sample_bloc=np.reshape(binary_data_sample,(5,3))\n",
        "        \n",
        "        sample_bloc=np.concatenate((cont_data_sample_bloc,binary_data_sample_bloc))\n",
        "        extra_bloc=np.zeros((7,4))\n",
        "        \n",
        "        sample_bloc=np.uint8(np.concatenate((sample_bloc,extra_bloc), axis=1))\n",
        "        \n",
        "        image = sample_bloc #io.imread(sample_bloc)\n",
        "\n",
        "        if self.transform:\n",
        "            image = self.transform(image)\n",
        "\n",
        "        return image"
      ],
      "execution_count": 0,
      "outputs": []
    },
    {
      "cell_type": "code",
      "metadata": {
        "id": "qJY_ldBBDLtz",
        "colab_type": "code",
        "colab": {}
      },
      "source": [
        "#Load\n",
        "out_dir = './Fingerprints_dataset' #saves dataset here\n",
        "transform =  transforms.Compose([transforms.ToTensor(),\n",
        "        transforms.Normalize((0.5,),(0.5,))])\n",
        "#download MNIST, save and apply transform \n",
        "tyroid_data =  TyroidDataset(root_dir='tyroid_clean.csv', transform=transform)\n",
        "#Data loader feeds data as inputs and labels, of fixed batch size\n",
        "train_loader = torch.utils.data.DataLoader(tyroid_data, batch_size = 20, shuffle = True)"
      ],
      "execution_count": 0,
      "outputs": []
    },
    {
      "cell_type": "code",
      "metadata": {
        "id": "GjexTCpKDTTG",
        "colab_type": "code",
        "colab": {}
      },
      "source": [
        "#Get Device\n",
        "device = torch.device('cuda' if torch.cuda.is_available() else 'cpu')"
      ],
      "execution_count": 0,
      "outputs": []
    },
    {
      "cell_type": "code",
      "metadata": {
        "id": "owKiym5VDUo5",
        "colab_type": "code",
        "colab": {}
      },
      "source": [
        "#Define discriminator\n",
        "def disc_model():\n",
        "    discriminator_model = nn.Sequential(\n",
        "      nn.Linear(7 *7, 64),\n",
        "      nn.LeakyReLU(0.2),\n",
        "      nn.Dropout(0.3),\n",
        "      nn.Linear(64, 1),\n",
        "      nn.Sigmoid()\n",
        "      ).to(device)\n",
        "    return discriminator_model\n",
        "#create a discriminator network\n",
        "discriminator = disc_model()\n",
        "#if we want to start from a checkpoint model\n",
        "#discriminator.load_state_dict(torch.load('DataOutput/f_name_RawData.pth')['dis_state_dict'])\n",
        "#discriminator.eval()"
      ],
      "execution_count": 0,
      "outputs": []
    },
    {
      "cell_type": "code",
      "metadata": {
        "id": "WrE79k9rDWfX",
        "colab_type": "code",
        "colab": {}
      },
      "source": [
        "#Define generator\n",
        "def gen_model():\n",
        "    generator_model = nn.Sequential(\n",
        "          nn.Linear(5, 64),\n",
        "          nn.LeakyReLU(0.2),\n",
        "          nn.Linear(64 , 7*7),\n",
        "          nn.Tanh()    \n",
        "          ).to(device)\n",
        "    return generator_model\n",
        "#create a generator network\n",
        "generator = gen_model()\n",
        "#if we want to start from a checkpoint model\n",
        "#generator.load_state_dict(torch.load('DataOutput/f_name_RawData.pth')['gen_state_dict'])\n",
        "#generator.eval()"
      ],
      "execution_count": 0,
      "outputs": []
    },
    {
      "cell_type": "code",
      "metadata": {
        "id": "Oh2BZP2pDZJA",
        "colab_type": "code",
        "colab": {}
      },
      "source": [
        "#Noise generator\n",
        "from torch.autograd import Variable\n",
        "def rand_vecs(batch_size):\n",
        "    return Variable(torch.randn(batch_size, 5)).to(device)"
      ],
      "execution_count": 0,
      "outputs": []
    },
    {
      "cell_type": "code",
      "metadata": {
        "id": "wtP8-x90Dbig",
        "colab_type": "code",
        "colab": {}
      },
      "source": [
        "#Define optimizer and loss criterion\n",
        "import torch.optim as optim\n",
        "#create separate optimizers, use BCELoss for both networks\n",
        "d_optimizer = optim.Adam(discriminator.parameters(), lr = 0.0002)\n",
        "g_optimizer = optim.Adam(generator.parameters(), lr = 0.0002)\n",
        "criterion = nn.BCELoss()"
      ],
      "execution_count": 0,
      "outputs": []
    },
    {
      "cell_type": "code",
      "metadata": {
        "id": "P7bJCXnQDdRN",
        "colab_type": "code",
        "colab": {}
      },
      "source": [
        "#Get the labels\n",
        "def ones_or_zeros(batch_size, labels):\n",
        "    if labels == 1:\n",
        "        return Variable(torch.ones(batch_size, 1)).to(device)\n",
        "    elif labels == 0:\n",
        "        return Variable(torch.zeros(batch_size, 1)).to(device)"
      ],
      "execution_count": 0,
      "outputs": []
    },
    {
      "cell_type": "code",
      "metadata": {
        "id": "64T8UAZe7lv4",
        "colab_type": "code",
        "outputId": "91836821-296d-48a5-c24d-11daec9ae5ee",
        "colab": {
          "base_uri": "https://localhost:8080/",
          "height": 282
        }
      },
      "source": [
        "#Check ground truth sample:\n",
        "for inputs in train_loader:\n",
        "  print(inputs[0].shape)\n",
        "  sample=inputs[0].view(-1, 7).detach().numpy()\n",
        "  plt.axis('off')\n",
        "  plt.grid(b=None)\n",
        "  im=plt.imshow(sample)\n",
        "  im.set_cmap('plasma')\n",
        "  break"
      ],
      "execution_count": 0,
      "outputs": [
        {
          "output_type": "stream",
          "text": [
            "torch.Size([1, 7, 7])\n"
          ],
          "name": "stdout"
        },
        {
          "output_type": "display_data",
          "data": {
            "image/png": "[encoded data removed]",
            "text/plain": [
              "<Figure size 432x288 with 1 Axes>"
            ]
          },
          "metadata": {
            "tags": []
          }
        }
      ]
    },
    {
      "cell_type": "code",
      "metadata": {
        "id": "fMTy77SNDkda",
        "colab_type": "code",
        "outputId": "d4f95925-ba4f-4423-c890-5251d3d959e0",
        "colab": {
          "base_uri": "https://localhost:8080/",
          "height": 11520
        }
      },
      "source": [
        "#TRAIN\n",
        "#Create empty lists to catch losses\n",
        "losses_disc, losses_generator = [], []\n",
        "print_freq = 5 #fix how frequently to print losses\n",
        "for epoch in range(101): #100 by default\n",
        "    #Networks are training hence, .train()\n",
        "    discriminator.train()\n",
        "    generator.train()\n",
        "    \n",
        "#Train discriminator\n",
        "    tot_inputs_passed=0\n",
        "    for inputs in train_loader:\n",
        "        \n",
        "        #.to(device)--> work in either cpu or gpu     \n",
        "        inputs = inputs.to(device) \n",
        "        \n",
        "        batch_size = inputs.size(0)\n",
        "        #Note: inputs.shape ->([52, 1, 28, 28])        \n",
        "        #reshape to (batch_size, features) as expected by network\n",
        "        real_data = inputs.view(inputs.size(0), -1) \n",
        "        \n",
        "        #Flush the retained gradients\n",
        "        d_optimizer.zero_grad()\n",
        "        # probabilities given real data       \n",
        "        pred_real = discriminator(real_data) \n",
        "        \n",
        "        #Computing loss for real data         \n",
        "        loss_real=criterion(pred_real, ones_or_zeros(batch_size, 1))\n",
        "        \n",
        "        #Note grads for gen are detached\n",
        "        fake_data = generator(rand_vecs(batch_size)).detach()\n",
        " \n",
        "        fake_data = fake_data.to(device)\n",
        "        # probabilities given fake data\n",
        "        pred_fake = discriminator(fake_data) \n",
        "        \n",
        "        #Computing loss for generated data\n",
        "        loss_fake=criterion(pred_fake, ones_or_zeros(batch_size, 0))\n",
        "        \n",
        "        loss_disc = loss_real + loss_fake  #combined loss\n",
        "        losses_disc.append(loss_disc.item()) # log the losses\n",
        "        #computes the gradients        \n",
        "        loss_disc.backward()\n",
        "        #update parameters using gradients & optimizer rules       \n",
        "        d_optimizer.step()\n",
        " \n",
        "        #discriminator completes a loop\n",
        "#Train generator\n",
        "        #Trains from scratch, newly generated data are used\n",
        "        g_optimizer.zero_grad()\n",
        "        #generates image/feature vector\n",
        "        fake_data_new = generator(rand_vecs(batch_size))  \n",
        "               \n",
        "        fake_data_new = fake_data_new.to(device)\n",
        "        \n",
        "        pred_fake_new = discriminator(fake_data_new)\n",
        "        #Generator's loss minimized after, labels are set to 1 \n",
        "        loss_generator = criterion(pred_fake_new,   ones_or_zeros(batch_size, 1))\n",
        " \n",
        "        losses_generator.append(loss_generator.item())\n",
        "        loss_generator.backward()\n",
        "        \n",
        "        g_optimizer.step() #completes training loop for generator\n",
        "        \n",
        "        #Printing the Evolution:\n",
        "        #image=generator(rand_vecs(batch_size))[0]\n",
        "        #image_host=image.cpu()\n",
        "        #sample=image_host.view(-1, 275).detach().numpy()\n",
        "        #plt.axis('off')\n",
        "        #plt.grid(b=None)\n",
        "        #plt.imshow(sample)\n",
        "        #plt.show()\n",
        "            \n",
        "        tot_inputs_passed+=1       \n",
        "        \n",
        "        print('\\r',str(round(float(tot_inputs_passed)/len(train_loader)*100,2))+\"% Epoch passed\",end='')\n",
        "        \n",
        "#Print and save epoch, generator_state_dict as chk_point\n",
        "    if epoch % print_freq ==0:\n",
        "        print(\"loss_disc:{:.6}.., loss_generator: {:.5}\".format(loss_disc, loss_generator))\n",
        "        torch.save({\n",
        "            'epoch': epoch,\n",
        "            'gen_state_dict': generator.state_dict(),\n",
        "            'dis_state_dict': discriminator.state_dict(),\n",
        "            }, ('DataOutput/f_name_RawData' + '.pth'))\n",
        "        torch.save({\n",
        "            'epoch': epoch,\n",
        "            'losses': \"loss_disc:{:.6}.., loss_generator: {:.5}\".format(loss_disc, loss_generator),\n",
        "            }, ('DataOutput/f_name_' + str(epoch) + '.txt'))\n",
        "        fig=plt.figure(figsize=(8, 8))\n",
        "        columns = 3\n",
        "        rows = 3\n",
        "        for i in range(1, columns*rows +1):\n",
        "            image=generator(rand_vecs(batch_size))[choice(range(batch_size))]\n",
        "            image_host=image.cpu()\n",
        "            sample=image_host.view(-1, 7).detach().numpy()\n",
        "            #can't convert CUDA tensor to numpy. Use Tensor.cpu() to copy the tensor to host memory first.\n",
        "            fig.add_subplot(rows, columns, i)\n",
        "            plt.axis('off')\n",
        "            plt.grid(b=None)\n",
        "            plt.imshow(sample)\n",
        "            plt.imsave('DataOutput/Epoch_'+str(epoch)+'_sample_'+str(i)+'.png', sample)\n",
        "        plt.show()\n",
        "    else:\n",
        "        print(\"New epoch: \"+str(epoch+1))"
      ],
      "execution_count": 0,
      "outputs": [
        {
          "output_type": "stream",
          "text": [
            " 100.0% Epoch passedloss_disc:1.14144.., loss_generator: 0.60333\n"
          ],
          "name": "stdout"
        },
        {
          "output_type": "display_data",
          "data": {
            "image/png": "[encoded data removed]",
            "text/plain": [
              "<Figure size 576x576 with 9 Axes>"
            ]
          },
          "metadata": {
            "tags": []
          }
        },
        {
          "output_type": "stream",
          "text": [
            " 100.0% Epoch passedNew epoch: 2\n",
            " 100.0% Epoch passedNew epoch: 3\n",
            " 100.0% Epoch passedNew epoch: 4\n",
            " 100.0% Epoch passedNew epoch: 5\n",
            " 100.0% Epoch passedloss_disc:1.41267.., loss_generator: 0.6488\n"
          ],
          "name": "stdout"
        },
        {
          "output_type": "display_data",
          "data": {
            "image/png": "[encoded data removed]",
            "text/plain": [
              "<Figure size 576x576 with 9 Axes>"
            ]
          },
          "metadata": {
            "tags": []
          }
        },
        {
          "output_type": "stream",
          "text": [
            " 100.0% Epoch passedNew epoch: 7\n",
            " 100.0% Epoch passedNew epoch: 8\n",
            " 100.0% Epoch passedNew epoch: 9\n",
            " 100.0% Epoch passedNew epoch: 10\n",
            " 100.0% Epoch passedloss_disc:1.46759.., loss_generator: 0.68892\n"
          ],
          "name": "stdout"
        },
        {
          "output_type": "display_data",
          "data": {
            "image/png": "[encoded data removed]",
            "text/plain": [
              "<Figure size 576x576 with 9 Axes>"
            ]
          },
          "metadata": {
            "tags": []
          }
        },
        {
          "output_type": "stream",
          "text": [
            " 100.0% Epoch passedNew epoch: 12\n",
            " 100.0% Epoch passedNew epoch: 13\n",
            " 100.0% Epoch passedNew epoch: 14\n",
            " 100.0% Epoch passedNew epoch: 15\n",
            " 100.0% Epoch passedloss_disc:1.46044.., loss_generator: 0.74674\n"
          ],
          "name": "stdout"
        },
        {
          "output_type": "display_data",
          "data": {
            "image/png": "[encoded data removed]",
            "text/plain": [
              "<Figure size 576x576 with 9 Axes>"
            ]
          },
          "metadata": {
            "tags": []
          }
        },
        {
          "output_type": "stream",
          "text": [
            " 100.0% Epoch passedNew epoch: 17\n",
            " 100.0% Epoch passedNew epoch: 18\n",
            " 100.0% Epoch passedNew epoch: 19\n",
            " 100.0% Epoch passedNew epoch: 20\n",
            " 100.0% Epoch passedloss_disc:1.26822.., loss_generator: 0.76719\n"
          ],
          "name": "stdout"
        },
        {
          "output_type": "display_data",
          "data": {
            "image/png": "[encoded data removed]",
            "text/plain": [
              "<Figure size 576x576 with 9 Axes>"
            ]
          },
          "metadata": {
            "tags": []
          }
        },
        {
          "output_type": "stream",
          "text": [
            " 100.0% Epoch passedNew epoch: 22\n",
            " 100.0% Epoch passedNew epoch: 23\n",
            " 100.0% Epoch passedNew epoch: 24\n",
            " 100.0% Epoch passedNew epoch: 25\n",
            " 100.0% Epoch passedloss_disc:1.44572.., loss_generator: 0.73573\n"
          ],
          "name": "stdout"
        },
        {
          "output_type": "display_data",
          "data": {
            "image/png": "[encoded data removed]",
            "text/plain": [
              "<Figure size 576x576 with 9 Axes>"
            ]
          },
          "metadata": {
            "tags": []
          }
        },
        {
          "output_type": "stream",
          "text": [
            " 100.0% Epoch passedNew epoch: 27\n",
            " 100.0% Epoch passedNew epoch: 28\n",
            " 100.0% Epoch passedNew epoch: 29\n",
            " 100.0% Epoch passedNew epoch: 30\n",
            " 100.0% Epoch passedloss_disc:1.34311.., loss_generator: 0.70643\n"
          ],
          "name": "stdout"
        },
        {
          "output_type": "display_data",
          "data": {
            "image/png": "[encoded data removed]",
            "text/plain": [
              "<Figure size 576x576 with 9 Axes>"
            ]
          },
          "metadata": {
            "tags": []
          }
        },
        {
          "output_type": "stream",
          "text": [
            " 100.0% Epoch passedNew epoch: 32\n",
            " 100.0% Epoch passedNew epoch: 33\n",
            " 100.0% Epoch passedNew epoch: 34\n",
            " 100.0% Epoch passedNew epoch: 35\n",
            " 100.0% Epoch passedloss_disc:1.35084.., loss_generator: 0.78409\n"
          ],
          "name": "stdout"
        },
        {
          "output_type": "display_data",
          "data": {
            "image/png": "[encoded data removed]",
            "text/plain": [
              "<Figure size 576x576 with 9 Axes>"
            ]
          },
          "metadata": {
            "tags": []
          }
        },
        {
          "output_type": "stream",
          "text": [
            " 100.0% Epoch passedNew epoch: 37\n",
            " 100.0% Epoch passedNew epoch: 38\n",
            " 100.0% Epoch passedNew epoch: 39\n",
            " 100.0% Epoch passedNew epoch: 40\n",
            " 100.0% Epoch passedloss_disc:1.30785.., loss_generator: 0.7319\n"
          ],
          "name": "stdout"
        },
        {
          "output_type": "display_data",
          "data": {
            "image/png": "[encoded data removed]",
            "text/plain": [
              "<Figure size 576x576 with 9 Axes>"
            ]
          },
          "metadata": {
            "tags": []
          }
        },
        {
          "output_type": "stream",
          "text": [
            " 100.0% Epoch passedNew epoch: 42\n",
            " 100.0% Epoch passedNew epoch: 43\n",
            " 100.0% Epoch passedNew epoch: 44\n",
            " 100.0% Epoch passedNew epoch: 45\n",
            " 100.0% Epoch passedloss_disc:1.30837.., loss_generator: 0.72978\n"
          ],
          "name": "stdout"
        },
        {
          "output_type": "display_data",
          "data": {
            "image/png": "[encoded data removed]",
            "text/plain": [
              "<Figure size 576x576 with 9 Axes>"
            ]
          },
          "metadata": {
            "tags": []
          }
        },
        {
          "output_type": "stream",
          "text": [
            " 100.0% Epoch passedNew epoch: 47\n",
            " 100.0% Epoch passedNew epoch: 48\n",
            " 100.0% Epoch passedNew epoch: 49\n",
            " 100.0% Epoch passedNew epoch: 50\n",
            " 100.0% Epoch passedloss_disc:1.36316.., loss_generator: 0.8021\n"
          ],
          "name": "stdout"
        },
        {
          "output_type": "display_data",
          "data": {
            "image/png": "[encoded data removed]",
            "text/plain": [
              "<Figure size 576x576 with 9 Axes>"
            ]
          },
          "metadata": {
            "tags": []
          }
        },
        {
          "output_type": "stream",
          "text": [
            " 100.0% Epoch passedNew epoch: 52\n",
            " 100.0% Epoch passedNew epoch: 53\n",
            " 100.0% Epoch passedNew epoch: 54\n",
            " 100.0% Epoch passedNew epoch: 55\n",
            " 100.0% Epoch passedloss_disc:1.34639.., loss_generator: 0.78238\n"
          ],
          "name": "stdout"
        },
        {
          "output_type": "display_data",
          "data": {
            "image/png": "[encoded data removed]",
            "text/plain": [
              "<Figure size 576x576 with 9 Axes>"
            ]
          },
          "metadata": {
            "tags": []
          }
        },
        {
          "output_type": "stream",
          "text": [
            " 100.0% Epoch passedNew epoch: 57\n",
            " 100.0% Epoch passedNew epoch: 58\n",
            " 100.0% Epoch passedNew epoch: 59\n",
            " 100.0% Epoch passedNew epoch: 60\n",
            " 100.0% Epoch passedloss_disc:1.36269.., loss_generator: 0.71301\n"
          ],
          "name": "stdout"
        },
        {
          "output_type": "display_data",
          "data": {
            "image/png": "[encoded data removed]",
            "text/plain": [
              "<Figure size 576x576 with 9 Axes>"
            ]
          },
          "metadata": {
            "tags": []
          }
        },
        {
          "output_type": "stream",
          "text": [
            " 100.0% Epoch passedNew epoch: 62\n",
            " 100.0% Epoch passedNew epoch: 63\n",
            " 100.0% Epoch passedNew epoch: 64\n",
            " 100.0% Epoch passedNew epoch: 65\n",
            " 100.0% Epoch passedloss_disc:1.51663.., loss_generator: 0.71426\n"
          ],
          "name": "stdout"
        },
        {
          "output_type": "display_data",
          "data": {
            "image/png": "[encoded data removed]",
            "text/plain": [
              "<Figure size 576x576 with 9 Axes>"
            ]
          },
          "metadata": {
            "tags": []
          }
        },
        {
          "output_type": "stream",
          "text": [
            " 100.0% Epoch passedNew epoch: 67\n",
            " 100.0% Epoch passedNew epoch: 68\n",
            " 100.0% Epoch passedNew epoch: 69\n",
            " 100.0% Epoch passedNew epoch: 70\n",
            " 100.0% Epoch passedloss_disc:1.47475.., loss_generator: 0.82242\n"
          ],
          "name": "stdout"
        },
        {
          "output_type": "display_data",
          "data": {
            "image/png": "[encoded data removed]",
            "text/plain": [
              "<Figure size 576x576 with 9 Axes>"
            ]
          },
          "metadata": {
            "tags": []
          }
        },
        {
          "output_type": "stream",
          "text": [
            " 100.0% Epoch passedNew epoch: 72\n",
            " 100.0% Epoch passedNew epoch: 73\n",
            " 100.0% Epoch passedNew epoch: 74\n",
            " 100.0% Epoch passedNew epoch: 75\n",
            " 100.0% Epoch passedloss_disc:1.3688.., loss_generator: 0.73479\n"
          ],
          "name": "stdout"
        },
        {
          "output_type": "display_data",
          "data": {
            "image/png": "[encoded data removed]",
            "text/plain": [
              "<Figure size 576x576 with 9 Axes>"
            ]
          },
          "metadata": {
            "tags": []
          }
        },
        {
          "output_type": "stream",
          "text": [
            " 100.0% Epoch passedNew epoch: 77\n",
            " 100.0% Epoch passedNew epoch: 78\n",
            " 100.0% Epoch passedNew epoch: 79\n",
            " 100.0% Epoch passedNew epoch: 80\n",
            " 100.0% Epoch passedloss_disc:1.51765.., loss_generator: 0.78265\n"
          ],
          "name": "stdout"
        },
        {
          "output_type": "display_data",
          "data": {
            "image/png": "[encoded data removed]",
            "text/plain": [
              "<Figure size 576x576 with 9 Axes>"
            ]
          },
          "metadata": {
            "tags": []
          }
        },
        {
          "output_type": "stream",
          "text": [
            " 100.0% Epoch passedNew epoch: 82\n",
            " 100.0% Epoch passedNew epoch: 83\n",
            " 100.0% Epoch passedNew epoch: 84\n",
            " 100.0% Epoch passedNew epoch: 85\n",
            " 100.0% Epoch passedloss_disc:1.49087.., loss_generator: 0.73145\n"
          ],
          "name": "stdout"
        },
        {
          "output_type": "display_data",
          "data": {
            "image/png": "[encoded data removed]",
            "text/plain": [
              "<Figure size 576x576 with 9 Axes>"
            ]
          },
          "metadata": {
            "tags": []
          }
        },
        {
          "output_type": "stream",
          "text": [
            " 100.0% Epoch passedNew epoch: 87\n",
            " 100.0% Epoch passedNew epoch: 88\n",
            " 100.0% Epoch passedNew epoch: 89\n",
            " 100.0% Epoch passedNew epoch: 90\n",
            " 100.0% Epoch passedloss_disc:1.44365.., loss_generator: 0.59934\n"
          ],
          "name": "stdout"
        },
        {
          "output_type": "display_data",
          "data": {
            "image/png": "[encoded data removed]",
            "text/plain": [
              "<Figure size 576x576 with 9 Axes>"
            ]
          },
          "metadata": {
            "tags": []
          }
        },
        {
          "output_type": "stream",
          "text": [
            " 100.0% Epoch passedNew epoch: 92\n",
            " 100.0% Epoch passedNew epoch: 93\n",
            " 100.0% Epoch passedNew epoch: 94\n",
            " 100.0% Epoch passedNew epoch: 95\n",
            " 100.0% Epoch passedloss_disc:1.54411.., loss_generator: 0.70685\n"
          ],
          "name": "stdout"
        },
        {
          "output_type": "display_data",
          "data": {
            "image/png": "[encoded data removed]",
            "text/plain": [
              "<Figure size 576x576 with 9 Axes>"
            ]
          },
          "metadata": {
            "tags": []
          }
        },
        {
          "output_type": "stream",
          "text": [
            " 100.0% Epoch passedNew epoch: 97\n",
            " 100.0% Epoch passedNew epoch: 98\n",
            " 100.0% Epoch passedNew epoch: 99\n",
            " 100.0% Epoch passedNew epoch: 100\n",
            " 100.0% Epoch passedloss_disc:1.49645.., loss_generator: 0.68672\n"
          ],
          "name": "stdout"
        },
        {
          "output_type": "display_data",
          "data": {
            "image/png": "[encoded data removed]",
            "text/plain": [
              "<Figure size 576x576 with 9 Axes>"
            ]
          },
          "metadata": {
            "tags": []
          }
        }
      ]
    },
    {
      "cell_type": "code",
      "metadata": {
        "id": "0on3LEV-ioBL",
        "colab_type": "code",
        "cellView": "code",
        "outputId": "d96018c8-eb91-4ed0-8e84-02e5b0593c02",
        "colab": {
          "base_uri": "https://localhost:8080/",
          "height": 483
        }
      },
      "source": [
        "#Loading Images\n",
        "\n",
        "generator=gen_model()\n",
        "generator.load_state_dict(torch.load('DataOutput/f_name_RawData.pth')['gen_state_dict'])\n",
        "generator.eval()\n",
        "\n",
        "fig=plt.figure(figsize=(8, 8))\n",
        "columns = 3\n",
        "rows = 3\n",
        "for i in range(1, columns*rows +1):\n",
        "    image=generator(rand_vecs(20))[choice(range(20))]\n",
        "    image_host=image.cpu()\n",
        "    sample=image_host.view(-1, 7).detach().numpy()\n",
        "    fig.add_subplot(rows, columns, i)\n",
        "    plt.axis('off')\n",
        "    plt.grid(b=None)\n",
        "    im=plt.imshow(sample)\n",
        "    im.set_cmap('plasma')\n",
        "    plt.imsave('Final_Result_'+str(i)+'.png', sample, cmap='plasma')\n",
        "plt.show()"
      ],
      "execution_count": 0,
      "outputs": [
        {
          "output_type": "display_data",
          "data": {
            "image/png": "[encoded data removed]",
            "text/plain": [
              "<Figure size 576x576 with 9 Axes>"
            ]
          },
          "metadata": {
            "tags": []
          }
        }
      ]
    },
    {
      "cell_type": "code",
      "metadata": {
        "id": "KNi03ZC1DrwC",
        "colab_type": "code",
        "outputId": "fcff8bc9-6c1b-479a-b149-81e0af6f6cd7",
        "colab": {
          "base_uri": "https://localhost:8080/",
          "height": 51
        }
      },
      "source": [
        "def remap(x):\n",
        "  A=-1\n",
        "  B=1\n",
        "  C=1\n",
        "  D=255\n",
        "  \n",
        "  out=(x-A)/(B-A)*(D-C)+C\n",
        "  return int(out)\n",
        "\n",
        "def remap_bin(x):\n",
        "  A=-1\n",
        "  B=1\n",
        "  C=1\n",
        "  D=255\n",
        "  \n",
        "  out=(x-A)/(B-A)*(D-C)+C\n",
        "  \n",
        "  if out<=255/2:\n",
        "    out=1\n",
        "  else:\n",
        "    out=255\n",
        "  return int(out)\n",
        "\n",
        "output_dataframe=pd.DataFrame(columns=['Age','Sex','On_thyroxine','Query_on_thyroxine','On_antithyroid_medication','Sick','Pregnant','Thyroid_surgery','I131_treatment','Query_hypothyroid','Query_hyperthyroid','Lithium','Goitre','Tumor','Hypopituitary','Psych','TSH','T3','TT4','T4U','FTI'])\n",
        "binaryVars=['Sex','On_thyroxine','Query_on_thyroxine','On_antithyroid_medication','Sick','Pregnant','Thyroid_surgery','I131_treatment','Query_hypothyroid','Query_hyperthyroid','Lithium','Goitre','Tumor','Hypopituitary','Psych']\n",
        "continuousVars=['Age','TSH','T3','TT4','T4U','FTI']\n",
        "\n",
        "generator=gen_model()\n",
        "generator.load_state_dict(torch.load('DataOutput/f_name_RawData.pth')['gen_state_dict'])\n",
        "generator.eval()\n",
        "\n",
        "fig=plt.figure(figsize=(8, 8))\n",
        "columns = 3\n",
        "rows = 3\n",
        "\n",
        "row=-1\n",
        "for i in range(int(6330/20)):\n",
        "  for j in range(20): \n",
        "    row+=1\n",
        "    image=generator(rand_vecs(20))[j]\n",
        "    image_host=image.cpu()\n",
        "    sample=image_host.view(-1, 7).detach().numpy()\n",
        "    \n",
        "    #plt.imshow(sample)\n",
        "    \n",
        "    cont_data_sample=[remap(x) for x in np.reshape(sample[:2,:3],(6))]\n",
        "    binary_data_sample=[remap_bin(x) for x in np.reshape(sample[2:,:3],(15))]\n",
        "    \n",
        "    #print(cont_data_sample)\n",
        "    #print(binary_data_sample)\n",
        "    \n",
        "    output_dataframe.loc[row,continuousVars]=cont_data_sample\n",
        "    output_dataframe.loc[row,binaryVars]=binary_data_sample\n",
        "    \n",
        "    print('\\r',str(row)+\" rows processed\",end='')\n",
        "\n",
        "output_dataframe.to_csv('output_tyroids_data.csv')"
      ],
      "execution_count": 0,
      "outputs": [
        {
          "output_type": "stream",
          "text": [
            " 6319 rows processed"
          ],
          "name": "stdout"
        },
        {
          "output_type": "display_data",
          "data": {
            "text/plain": [
              "<Figure size 576x576 with 0 Axes>"
            ]
          },
          "metadata": {
            "tags": []
          }
        }
      ]
    },
    {
      "cell_type": "code",
      "metadata": {
        "id": "V_ZmCcMg9nYv",
        "colab_type": "code",
        "colab": {}
      },
      "source": [
        ""
      ],
      "execution_count": 0,
      "outputs": []
    }
  ]
}